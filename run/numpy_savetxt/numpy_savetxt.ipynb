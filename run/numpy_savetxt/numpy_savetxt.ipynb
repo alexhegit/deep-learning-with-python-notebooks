{
 "cells": [
  {
   "cell_type": "code",
   "execution_count": 1,
   "metadata": {},
   "outputs": [],
   "source": [
    "# http://www.cnblogs.com/wushaogui/p/9142019.html\n",
    "\n",
    "import numpy as np\n",
    "x = y = z = np.ones((2,3)) \n",
    "np.savetxt('test.out', x) \n",
    "np.savetxt('test1.out', x,fmt='%1.4e') \n",
    "np.savetxt('test2.out', x, delimiter=',') \n",
    "np.savetxt('test3.out', x,newline='a') \n",
    "np.savetxt('test4.out', x,delimiter=',',newline='a') \n",
    "np.savetxt('test5.out', x,delimiter=',',header='abc') \n",
    "np.savetxt('test6.out', x,delimiter=',',footer='abc') "
   ]
  },
  {
   "cell_type": "code",
   "execution_count": 1,
   "metadata": {},
   "outputs": [],
   "source": []
  },
  {
   "cell_type": "code",
   "execution_count": null,
   "metadata": {},
   "outputs": [],
   "source": []
  }
 ],
 "metadata": {
  "kernelspec": {
   "display_name": "Python 3",
   "language": "python",
   "name": "python3"
  },
  "language_info": {
   "codemirror_mode": {
    "name": "ipython",
    "version": 3
   },
   "file_extension": ".py",
   "mimetype": "text/x-python",
   "name": "python",
   "nbconvert_exporter": "python",
   "pygments_lexer": "ipython3",
   "version": "3.6.6"
  }
 },
 "nbformat": 4,
 "nbformat_minor": 2
}
